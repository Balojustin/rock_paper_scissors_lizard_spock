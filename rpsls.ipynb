{
 "cells": [
  {
   "cell_type": "markdown",
   "metadata": {},
   "source": [
    "# Rock, Paper, Scissors, Lizard, Spock\n",
    "### By Folami"
   ]
  },
  {
   "cell_type": "code",
   "execution_count": 1,
   "metadata": {},
   "outputs": [],
   "source": [
    "import random"
   ]
  },
  {
   "cell_type": "code",
   "execution_count": 26,
   "metadata": {},
   "outputs": [],
   "source": [
    "def rpsls():\n",
    "    keep_playing = True\n",
    "    while keep_playing is True:\n",
    "        player_input = input('Enter \"ro\", \"pa\", \"sc\", \"li\", \"sp\" for rock, paper, scissors, lizard and spock respectively: ').lower()\n",
    "        options = [\"ro\", \"pa\", \"sc\", \"li\", \"sp\"]\n",
    "        computer_input = random.choice(options)\n",
    "\n",
    "        print(f'You chose {player_input} and computer chose {computer_input}')\n",
    "        \n",
    "\n",
    "        if player_input == computer_input:\n",
    "            print(f'Both players played {player_input}, it is a tie')\n",
    "        elif player_input == 'ro':\n",
    "            if computer_input == 'sc':\n",
    "                print('Rock crushes scissors, You win')\n",
    "            elif computer_input == 'li':\n",
    "                print('Rock crushes Lizard, You win')\n",
    "            elif computer_input == 'pa':\n",
    "                print('Paper covers Rock, Computer wins')\n",
    "            elif computer_input == 'sp':\n",
    "                print('Spock vaporizes Rock, Computer wins')\n",
    "        elif player_input == 'pa':\n",
    "            if computer_input == 'ro':\n",
    "                print('Paper covers Rock, You win')\n",
    "            elif computer_input == 'sp':\n",
    "                print('Paper disproves Spock, You win')\n",
    "            elif computer_input == 'sc':\n",
    "                print('Scissors cuts Paper, Computer wins')\n",
    "            elif computer_input == 'li':\n",
    "                print('Lizard eats Paper, Computer wins')\n",
    "        elif player_input == 'sc':\n",
    "            if computer_input == 'pa':\n",
    "                print('Scissors cuts Paper, You win')\n",
    "            elif computer_input == 'li':\n",
    "                print('Scissors decapitates Lizard, You win')\n",
    "            elif computer_input == 'ro':\n",
    "                print('Rock crushes Scissors, Computer wins')\n",
    "            elif computer_input == 'sp':\n",
    "                print('Spock smashes Scissors, Computer wins')\n",
    "        elif player_input == 'li':\n",
    "            if computer_input == 'sp':\n",
    "                print('Lizard poisons Spock, You win')\n",
    "            elif computer_input == 'pa':\n",
    "                print('Lizard eats Paper, You win')\n",
    "            elif computer_input == 'ro':\n",
    "                print('Rock crushes Lizard, Computer wins')\n",
    "            elif computer_input == 'sc':\n",
    "                print('Scissors decapitates Lizard, Computer wins')\n",
    "        elif player_input == 'sp':\n",
    "            if computer_input == 'sc':\n",
    "                print('Spock smashes Scissors, You win')\n",
    "            elif computer_input == 'ro':\n",
    "                print('Spock vaporizes Rock, You win')\n",
    "            elif computer_input == 'pa':\n",
    "                print('Paper disproves Spock. Computer wins')\n",
    "            elif computer_input == 'li':\n",
    "                print('Lizard poisons Spock, Computer wins')\n",
    "        else:\n",
    "            print('Invalid choice')\n",
    "\n",
    "        to_continue = input('Would you like to continue? [Y/N]': ).lower()\n",
    "        if to_continue == 'y':\n",
    "            keep_playing = True\n",
    "        else:\n",
    "            keep_playing = False\n",
    "            print('Thank you for Playing')\n",
    "        \n",
    "\n"
   ]
  },
  {
   "cell_type": "code",
   "execution_count": 28,
   "metadata": {},
   "outputs": [
    {
     "name": "stdout",
     "output_type": "stream",
     "text": [
      "You chose th and computer chose sc\n",
      "Invalid choice\n",
      "You chose sc and computer chose pa\n",
      "Scissors cuts Paper, You win\n",
      "You chose sp and computer chose sp\n",
      "Both players played sp, it is a tie\n",
      "You chose sp and computer chose sp\n",
      "Both players played sp, it is a tie\n",
      "You chose sp and computer chose sp\n",
      "Both players played sp, it is a tie\n",
      "You chose sp and computer chose sc\n",
      "Spock smashes Scissors, You win\n",
      "You chose th and computer chose pa\n",
      "Invalid choice\n",
      "Thank you for Playing\n"
     ]
    }
   ],
   "source": [
    "rpsls()"
   ]
  },
  {
   "cell_type": "code",
   "execution_count": null,
   "metadata": {},
   "outputs": [],
   "source": []
  }
 ],
 "metadata": {
  "kernelspec": {
   "display_name": "Python 3.7.13",
   "language": "python",
   "name": "python3"
  },
  "language_info": {
   "codemirror_mode": {
    "name": "ipython",
    "version": 3
   },
   "file_extension": ".py",
   "mimetype": "text/x-python",
   "name": "python",
   "nbconvert_exporter": "python",
   "pygments_lexer": "ipython3",
   "version": "3.7.13"
  },
  "orig_nbformat": 4,
  "vscode": {
   "interpreter": {
    "hash": "1bd6c9528c6ecddccea484e7530b79bccad150b42c1205014ea67d2f6b4c062c"
   }
  }
 },
 "nbformat": 4,
 "nbformat_minor": 2
}
